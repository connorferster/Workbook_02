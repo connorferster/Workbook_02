{
 "cells": [
  {
   "cell_type": "code",
   "execution_count": 1,
   "id": "72bdb903-9877-46a7-a320-183c813dd6aa",
   "metadata": {},
   "outputs": [],
   "source": [
    "from sympy.physics.continuum_mechanics.beam import Beam\n",
    "from sympy import symbols"
   ]
  },
  {
   "cell_type": "markdown",
   "id": "f54dc2e3-fcb7-4506-ab0e-c8db04c2a962",
   "metadata": {
    "jp-MarkdownHeadingCollapsed": true,
    "tags": []
   },
   "source": [
    "# 👩‍💻 Workbook 02: String and list manipulation\n",
    "\n",
    "This workbook is about learning how to manually manipulate string data that is read from files.\n",
    "\n",
    "To do this, you will be reading data from three files: \"beam_1.txt\", \"beam_2.txt\", and \"beam_3.txt\".\n",
    "\n",
    "The file format of each text file is as follows. Values shown in square brackets `[]` are optional data and may or may not appear in the file. Information shown in parentheses `()` is information on how the data is stored.\n",
    "\n",
    "```\n",
    "Length, [E, I]\n",
    "Support locations (comma separated)\n",
    "Load Magnitude, Load Start, Load Order, [Load End]\n",
    "Load Magnitude, Load Start, Load Order, [Load End]\n",
    "...\n",
    "```\n",
    "\n",
    "All the lines below the first two lines will be loads. There can be zero, one, or many lines of loads.\n"
   ]
  },
  {
   "cell_type": "markdown",
   "id": "9dc9a70d-56cc-4343-83c1-ff5bda9c04c6",
   "metadata": {
    "tags": []
   },
   "source": [
    "# Task 1\n",
    "\n",
    "Using the template for opening a file shown in the lesson (and also shown in the Lesson 01 Reference), open the file \"beam_1.txt\" in the repository.\n",
    "\n",
    "1. Read the contents of the file using `.read()` and store the resulting string in a variable called `beam_1_data`.\n",
    "2. Using the information about the file format described above, use string methods, list methods, and indexing to put the data from the file into a `Beam` object.\n",
    "3. Solve the `Beam` for reaction loads. Print reaction loads, plot the shear force and bending moment diagrams. If `E` and `I` are in the file, also plot the displacement.\n",
    "\n",
    "(Feel free to refer back to Lesson 01 Reference and Workbook 01 if you don't remember how to build the `Beam` objects)"
   ]
  },
  {
   "cell_type": "markdown",
   "id": "791397d1-c0ce-4aef-ac72-03bbb3af08e0",
   "metadata": {},
   "source": [
    "## Task 01 Response"
   ]
  },
  {
   "cell_type": "code",
   "execution_count": null,
   "id": "991c90d7-13d4-4469-bf56-68da592869a7",
   "metadata": {},
   "outputs": [],
   "source": []
  },
  {
   "cell_type": "markdown",
   "id": "a0653be0-e976-4c21-8199-f94bb842795f",
   "metadata": {},
   "source": [
    "# Task 2\n",
    "\n",
    "Perform the same instructions from **Task 1** with \"beam_2.txt\" except call your variable `beam_2_data`."
   ]
  },
  {
   "cell_type": "markdown",
   "id": "0dd914dc-f6b8-4dce-a3e8-c88a821d943f",
   "metadata": {},
   "source": [
    "## Task 2 Response"
   ]
  },
  {
   "cell_type": "code",
   "execution_count": null,
   "id": "ac1e19bd-f712-4bc3-85b9-a4a99dd3da92",
   "metadata": {},
   "outputs": [],
   "source": []
  },
  {
   "cell_type": "markdown",
   "id": "fd6a359d-ac05-40a2-bbf9-6c69d1e68162",
   "metadata": {},
   "source": [
    "## Task 3\n",
    "\n",
    "Perform the same instructions from **Task 1** with \"beam_3.txt\" except call your variable `beam_3_data`"
   ]
  },
  {
   "cell_type": "markdown",
   "id": "c4d9b707-6deb-4d52-a9c4-1a45f82a1a5b",
   "metadata": {},
   "source": [
    "## Task 3 Response"
   ]
  },
  {
   "cell_type": "code",
   "execution_count": null,
   "id": "fb7fde0c-ed33-4184-bcfa-ec6e6efe69e5",
   "metadata": {},
   "outputs": [],
   "source": []
  },
  {
   "cell_type": "markdown",
   "id": "2baf70f7-2ed4-4c92-b614-f533406a65fe",
   "metadata": {},
   "source": [
    "# 🦸‍ Submit Workbook 02\n",
    "Whew! Congratulations on getting through Workbook 02. Was some of that work repetitive?  Maybe you started asking yourself, \"Is there a better way to do this?\"\n",
    "\n",
    "Well...yes, there is. We will start on that next week.\n",
    "\n",
    "For now, just email your completed workbook to me at `cferster@rjc.ca` with the subject line `Workbook 02 Submission`\n",
    "\n",
    "Oh, but if you are keen, I have also included a \"Workbook_02 Extra Practice\" notebook if you wanted to practice more but with non-structural exercises."
   ]
  },
  {
   "cell_type": "code",
   "execution_count": null,
   "id": "cdad82f6-ca67-41f8-babc-c6e0204b219a",
   "metadata": {},
   "outputs": [],
   "source": []
  }
 ],
 "metadata": {
  "kernelspec": {
   "display_name": "Python 3 (ipykernel)",
   "language": "python",
   "name": "python3"
  },
  "language_info": {
   "codemirror_mode": {
    "name": "ipython",
    "version": 3
   },
   "file_extension": ".py",
   "mimetype": "text/x-python",
   "name": "python",
   "nbconvert_exporter": "python",
   "pygments_lexer": "ipython3",
   "version": "3.8.12"
  }
 },
 "nbformat": 4,
 "nbformat_minor": 5
}
