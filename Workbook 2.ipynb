{
 "cells": [
  {
   "cell_type": "markdown",
   "metadata": {},
   "source": [
    "# Workbook 2"
   ]
  },
  {
   "cell_type": "markdown",
   "metadata": {},
   "source": [
    "## Task 1"
   ]
  },
  {
   "cell_type": "code",
   "execution_count": 1,
   "metadata": {},
   "outputs": [
    {
     "data": {
      "text/plain": [
       "'This is NOT NOT NOT how you support a beam!'"
      ]
     },
     "execution_count": 1,
     "metadata": {},
     "output_type": "execute_result"
    }
   ],
   "source": [
    "overheard_on_site = \"This is not how you support a beam\"\n",
    "\n",
    "# Manipulate the variable above using string slices, the \"+\" operator, and the \"*\" operator \n",
    "# to return a more emphatic statement\n",
    "# i.e. \"This is NOT NOT NOT how you support a beam!\"\n",
    "\n",
    "overheard_on_site[0:8] + overheard_on_site[8:12].upper() * 3 + overheard_on_site[12:] + \"!\""
   ]
  },
  {
   "cell_type": "markdown",
   "metadata": {},
   "source": [
    "## Task 2"
   ]
  },
  {
   "cell_type": "code",
   "execution_count": 4,
   "metadata": {},
   "outputs": [
    {
     "name": "stdout",
     "output_type": "stream",
     "text": [
      "['B', 'O', 'L', 'T']\n",
      "[1, 3, 5, 7, 9, 11] \n",
      " [2, 4, 6, 8, 10, 12]\n"
     ]
    }
   ],
   "source": [
    "# Use slicing to print a sub-list that shows only [\"B\", \"O\", \"L\", \"T\"]\n",
    "\n",
    "hidden_bolt = [\"D\", \"B\", \"O\", \"L\", \"T\", \"X\", \"S\"]\n",
    "print(hidden_bolt[1:5])\n",
    "\n",
    "# make a variable named 'odds' and a variable named 'evens' that contain the list of just those numbers\n",
    "# from the list 'numbers_to_12'; print both variables\n",
    "\n",
    "numbers_to_12 = [1, 2, 3, 4, 5, 6, 7, 8, 9, 10, 11, 12]\n",
    "odds = numbers_to_12[::2]\n",
    "evens = numbers_to_12[1::2]\n",
    "print(odds, \"\\n\", evens)"
   ]
  },
  {
   "cell_type": "markdown",
   "metadata": {},
   "source": [
    "## Task 3"
   ]
  },
  {
   "cell_type": "code",
   "execution_count": 7,
   "metadata": {},
   "outputs": [
    {
     "name": "stdout",
     "output_type": "stream",
     "text": [
      "ABRACADABRA\n"
     ]
    }
   ],
   "source": [
    "# Use the letters in the string 'q' to spell \"ABRACADABRA\"\n",
    "# and then use print() to print the resulting \"ABRACADABRA\"\n",
    "\n",
    "# Hint: think of how you can make subsequences of pairs of \n",
    "# characters using indexing, e.g. first term is q[0:2]\n",
    "# Hint 2: You create variables that have parts of \"ABRACADABRA\" in it\n",
    "# and combine them either with the \"+\" operator or with 'f-strings'.\n",
    "\n",
    "q = \"ABCDR\"\n",
    "abracadabra = q[0:2] + q[::-4] + q[2::-2] + q[-2::-3] + q[1::3] + q[0]\n",
    "abra = q[0:2] + q[::-4]\n",
    "cad = q[2::-2] + q[3]\n",
    "print(abra + cad + abra)"
   ]
  },
  {
   "cell_type": "markdown",
   "metadata": {},
   "source": [
    "## Task 4"
   ]
  },
  {
   "cell_type": "code",
   "execution_count": 4,
   "metadata": {},
   "outputs": [],
   "source": [
    "numbers_0_to_100 = list(range(0, 101))"
   ]
  },
  {
   "cell_type": "code",
   "execution_count": 6,
   "metadata": {},
   "outputs": [
    {
     "name": "stdout",
     "output_type": "stream",
     "text": [
      "[5, 10, 15, 20, 25, 30, 35, 40, 45, 50, 5, 10, 15, 20, 25, 30, 35, 40, 45, 50] \n",
      " [6, 12, 18, 24, 30, 36, 42, 48, 54, 60, 66, 72, 100] \n",
      " [70, 63, 56, 49, 42, 35, 28, 21, 14, 7]\n"
     ]
    }
   ],
   "source": [
    "# Create, and print out, three new variables using numbers_0_to_100, defined above:\n",
    "# 1) The variable 'five_times' which is a list of the five times table from 5 to 50, \n",
    "#    repeated two times\n",
    "# 2) The variable 'six_times_12plus100' which is a list of the six times table from 6 to 72 followed by \n",
    "#    the number 100, at the end\n",
    "# 3) The variable 'back_seven' which is a list of the seven times table, backward,\n",
    "#    from 70 to 7\n",
    "# 4) Last, three print() statements to print out your three variables using \"f-strings\"\n",
    "#    So it reads like this:\n",
    "# \"The five times table, two times, looks like this: [5, 10, 15, 20, 25, 30, 35, 40, 45, 50, 5, 10, 15, 20, 25, 30, 35, 40, 45, 50]\"\n",
    "# \"The variable 'six_times_12plus100' has this in it: [6, 12, 18, 24, 30, 36, 42, 48, 54, 60, 66, 72, 100]\"\n",
    "# \"The seven times table, backward, looks like this: [70, 63, 56, 49, 42, 35, 28, 21, 14, 7]\"\n",
    "\n",
    "five_times = numbers_0_to_100[5:55:5] * 2\n",
    "six_times_12plus100 = numbers_0_to_100[6:78:6] + [100]\n",
    "back_seven = numbers_0_to_100[70:6:-7]\n",
    "\n",
    "\n",
    "print(five_times, \"\\n\", six_times_12plus100, \"\\n\", back_seven)"
   ]
  },
  {
   "cell_type": "markdown",
   "metadata": {},
   "source": [
    "## Task 5\n",
    "\n",
    "After an engineering conference, the conference host was able to give us some data about some of the conference attendees. <br>But the data is in one long piece of text and it seems to be recorded by different people:"
   ]
  },
  {
   "cell_type": "code",
   "execution_count": 14,
   "metadata": {},
   "outputs": [],
   "source": [
    "conference_attendees = \"\"\"Seminar 1: chang S, ryan H, sam q, mildred A, kaya Z, anup P, jasmin K\n",
    "SEMINAR_2: SYLVIE P, JAMAL Q, LETITIA S, GARY B, HORST V, GUIDO L\n",
    "seminar3: muhammad a, hale j, karen w, philip b, sarah kate t, dominic l\n",
    "Seminar-4: Carrie m, Davin p, Nick d, Kathy p, Anil f, Hardisty t\"\"\""
   ]
  },
  {
   "cell_type": "markdown",
   "metadata": {},
   "source": [
    "With the raw data in 'conference_attendees', use str methods to turn the output into\n",
    "a properly formatted list, like this:\n",
    "\n",
    "```\n",
    "['Seminar 1: Chang S, Ryan H, Sam Q, Mildred A, Kaya Z, Anup P, Jasmin K',\n",
    "'Seminar 2: Sylvie P, Jamal Q, Letitia S, Gary B, Horst V, Guido L',\n",
    "'Seminar 3: Muhammad A, Hale J, Karen W, Philip B, Sarah Kate T, Dominic L',\n",
    "'Seminar 4: Carrie M, Davin P, Nick D, Kathy P, Anil F, Hardisty T']\n",
    "```\n",
    "\n",
    "...where each item in the list is a string that only has that seminar and conference\n",
    "attendees, properly capitalized.\n",
    "\n",
    "This will allow you to use list indexing on your final list to see just the \n",
    "conference attendees for that seminar alone.\n",
    "e.g. lets say you got your resulting list into a variable called, 'seminars'\n",
    "Typing: `seminars[0]` would return:\n",
    "```\n",
    "'Seminar 1: Chang S, Ryan H, Sam Q, Mildred A, Kaya Z, Anup P, Jasmin K'\n",
    "```\n",
    "\n",
    "**Hint!** To make your list, it is important to know that there is actually a character to describe a line break (a new line). That character is `\\n`, yes, \"backslash-n\". <br>You can test out how it works by using `print()`, like, `print(\"here is something\\nand more\")` <br>\n",
    "**Hint 2!** Go back to Lesson 2 to find a string method that can break your string up into a list."
   ]
  },
  {
   "cell_type": "code",
   "execution_count": 22,
   "metadata": {},
   "outputs": [
    {
     "data": {
      "text/plain": [
       "'Seminar 2: Sylvie P, Jamal Q, Letitia S, Gary B, Horst V, Guido L'"
      ]
     },
     "execution_count": 22,
     "metadata": {},
     "output_type": "execute_result"
    }
   ],
   "source": [
    "proper_capitalization = conference_attendees.title()\n",
    "replaced_items = proper_capitalization.replace(\"_\", \" \").replace(\"-\", \" \").replace(\"Seminar3\", \"Seminar 3\")\n",
    "sems = replaced_items.split(\"\\n\")\n",
    "sems[1]"
   ]
  },
  {
   "cell_type": "markdown",
   "metadata": {},
   "source": [
    "## Task 6"
   ]
  },
  {
   "cell_type": "code",
   "execution_count": 7,
   "metadata": {},
   "outputs": [],
   "source": [
    "word_soup = \"\"\"baseball Cat PIGEON crafting order Nature wood characTer joist pigeon COMPOUND yarn Vinyl cat SILVER\n",
    "Pepper JOINT screw compound vinyl carotid SILLY flabberghasted CARDIOid nature golD figure synedoche Joist\n",
    "TERMITE carpet polyLine salt figure CAT SYNEDOCHE phrase GARBAGE pig EON VINYL final rauCOUS fashion leather\n",
    "VINYL natural single LIVING like comMERCIAL siLLY jargon FLUBBER gold joint hammer sIMPLex RACK songs AT\n",
    "HarVEST moon Silver songs at build it and BASEBALL for joist peony palpatation ANECDOTE feathering pervious lowboy\n",
    "PROTECTOR ingenious Gold flabberGHASTED simple x-ray cardioid kangAROO Pig time latin termite early day at the inner\n",
    "joist CARNIVAL sugar pepper plum pickling carpet SIMPLE VEHicle compouND icicle sickle at the foreground in\n",
    "PLays cat and doges sigmoid proof annivERSARY of carotid naturE salamander protector of leather at Harvest\n",
    "\"\"\""
   ]
  },
  {
   "cell_type": "markdown",
   "metadata": {},
   "source": [
    "Use string methods to perform a **case independent** search for specific words within the variable, `word_soup`. \"Case independent\" means that your search for \"cat\" will count \"Cat\", \"CAT\", and \"cat\" all as the same word. Your search should turn up a count of `4` from searching \"cat\"."
   ]
  },
  {
   "cell_type": "code",
   "execution_count": 2,
   "metadata": {},
   "outputs": [],
   "source": [
    "# Write an expression that counts the number of times that the word \"pig\" appears, on its own. \n",
    "# i.e. Results for the word \"pigeon\" should not be included within your count.\n",
    "\n"
   ]
  },
  {
   "cell_type": "code",
   "execution_count": null,
   "metadata": {},
   "outputs": [],
   "source": [
    "\n",
    "\n",
    "# Write an expression that counts the number of words that end with \"ing\". Assign this\n",
    "# list to a variable."
   ]
  },
  {
   "cell_type": "code",
   "execution_count": null,
   "metadata": {},
   "outputs": [],
   "source": [
    "\n",
    "# Write an expression that will create a list consisting of only every fifth word\n",
    "# in word_soup such that each word is properly capitalized (e.g. \"baseball\" is \"Baseball\").\n",
    "# If you find the word \"Vinyl\" is in the resulting list, replace with this word \"Plastic\"\n",
    "# Assign this list to a variable."
   ]
  }
 ],
 "metadata": {
  "kernelspec": {
   "display_name": "Python 3",
   "language": "python",
   "name": "python3"
  },
  "language_info": {
   "codemirror_mode": {
    "name": "ipython",
    "version": 3
   },
   "file_extension": ".py",
   "mimetype": "text/x-python",
   "name": "python",
   "nbconvert_exporter": "python",
   "pygments_lexer": "ipython3",
   "version": "3.7.7"
  }
 },
 "nbformat": 4,
 "nbformat_minor": 2
}
