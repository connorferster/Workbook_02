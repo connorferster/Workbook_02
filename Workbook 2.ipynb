{
 "cells": [
  {
   "cell_type": "code",
   "execution_count": null,
   "metadata": {},
   "outputs": [],
   "source": [
    "import python_course"
   ]
  },
  {
   "cell_type": "markdown",
   "metadata": {},
   "source": [
    "# Workbook 2"
   ]
  },
  {
   "cell_type": "markdown",
   "metadata": {},
   "source": [
    "## Task 1\n",
    "\n",
    "Manipulate the variable above using string slices, the \"+\" operator, the \"*\" operator, and str methods\n",
    "to return a more emphatic statement\n",
    "i.e. `\"This is NOT NOT NOT how you support a beam!\"`"
   ]
  },
  {
   "cell_type": "code",
   "execution_count": 1,
   "metadata": {},
   "outputs": [],
   "source": [
    "overheard_on_site = \"This is not how you support a beam\"\n"
   ]
  },
  {
   "cell_type": "markdown",
   "metadata": {},
   "source": [
    "## Task 2\n",
    "\n",
    "a) Use slicing to create a sub-list that shows only `[\"B\", \"O\", \"L\", \"T\"]`\n",
    "and assign it to a variable called `bolt`"
   ]
  },
  {
   "cell_type": "code",
   "execution_count": null,
   "metadata": {},
   "outputs": [],
   "source": [
    "# Use slicing to print a sub-list that shows only [\"B\", \"O\", \"L\", \"T\"]\n",
    "# and assign it to a variable called 'bolt'\n",
    "\n",
    "hidden_bolt = [\"D\", \"B\", \"O\", \"L\", \"T\", \"X\", \"S\"]\n",
    "\n",
    "# make a variable named 'odds' and a variable named 'evens' that contain the list of just those numbers\n",
    "# from the list 'numbers_to_12'\n",
    "\n",
    "numbers_to_12 = [1, 2, 3, 4, 5, 6, 7, 8, 9, 10, 11, 12]\n",
    "\n",
    "# using the print() function, print the variables: 'bolt', 'odds', 'evens' (each on new lines)\n"
   ]
  },
  {
   "cell_type": "markdown",
   "metadata": {},
   "source": [
    "## Task 3\n",
    "\n",
    "Combine index slicing and the `+` operator on the variable `q` to spell `\"ABRACADABRA\"`. Assign your slicing expression to the variable `magic_formula`.\n",
    "\n",
    "Try to do this in as few slices as possible. \n",
    "\n",
    "Finish by printing the variable `magic_formula`"
   ]
  },
  {
   "cell_type": "code",
   "execution_count": 3,
   "metadata": {},
   "outputs": [],
   "source": [
    "q = \"ABCDR\"\n"
   ]
  },
  {
   "cell_type": "markdown",
   "metadata": {},
   "source": [
    "## Task 4"
   ]
  },
  {
   "cell_type": "code",
   "execution_count": null,
   "metadata": {},
   "outputs": [],
   "source": [
    "numbers_0_to_100 = list(range(0, 101))"
   ]
  },
  {
   "cell_type": "code",
   "execution_count": null,
   "metadata": {},
   "outputs": [],
   "source": [
    "# Create, and print out, three new variables using numbers_0_to_100, defined above:\n",
    "# 1) The variable 'five_times' which is a list of the five times table from 5 to 50, \n",
    "#    repeated two times\n",
    "\n",
    "# 2) The variable 'six_times_12plus100' which is a list of the six times table from 6 to 72 followed by \n",
    "#    the number 100, at the end\n",
    "\n",
    "# 3) The variable 'back_seven' which is a list of the seven times table, backward,\n",
    "#    from 70 to 7\n",
    "\n",
    "# 4) Last, three print() statements to print out your three variables using \"f-strings\"\n",
    "#    So it reads like this:\n",
    "\n",
    "# \"The five times table, two times, looks like this: [5, 10, 15, 20, 25, 30, 35, 40, 45, 50, 5, 10, 15, 20, 25, 30, 35, 40, 45, 50]\"\n",
    "# \"The variable 'six_times_12plus100' has this in it: [6, 12, 18, 24, 30, 36, 42, 48, 54, 60, 66, 72, 100]\"\n",
    "# \"The seven times table, backward, looks like this: [70, 63, 56, 49, 42, 35, 28, 21, 14, 7]\"\n",
    "\n",
    "five_times = numbers_0_to_100[5:55:5] * 2\n",
    "six_times_12plus100 = numbers_0_to_100[6:78:6] + [100]\n",
    "back_seven = numbers_0_to_100[70:6:-7]\n",
    "\n",
    "\n",
    "print(five_times, \"\\n\", six_times_12plus100, \"\\n\", back_seven)"
   ]
  },
  {
   "cell_type": "markdown",
   "metadata": {},
   "source": [
    "## Task 5\n",
    "\n",
    "Run the below cell and use `emails` to complete this task"
   ]
  },
  {
   "cell_type": "code",
   "execution_count": 5,
   "metadata": {},
   "outputs": [],
   "source": [
    "emails = \"T.SCHWARTZ@Rghg.CA; KHARMON@apadev.CA;    PALANVIR@dbrarch.com;DGAGLIARDI@rontain.org;   GQURAISH@depeart.com; NORM.DESERT@3firm.com; ATENZIN@kcarden.com\""
   ]
  },
  {
   "cell_type": "markdown",
   "metadata": {},
   "source": [
    "You have a list of old client emails (about 500 of them) that you need to add to a new client management system. The new system allows you to paste a list of emails in as long as they are all lower case and each new email is by itself on a new line, like this:\n",
    "\n",
    "```\n",
    "t.schwartz@rghg.ca\n",
    "kharmon@apadev.ca\n",
    "palanvir@dbrarch.com\n",
    "dgagliardi@rontain.org\n",
    "gquraish@depeart.com\n",
    "norm.desert@3firm.com\n",
    "atenzin@kcarden.com\n",
    "```\n",
    "\n",
    "The list of client emails is an export from a piece of software that we do not have anymore. For some unknown reason, the emails from the old system are badly formatted as a text file with all data on one long line with a mix of upper and lower case letters, are separated by semi-colons, and have varying amounts of white space separating them.\n",
    "\n",
    "The \"old you\" may have tried to fix this list manually, resigning yourself to about an hour of manual work. Ugh. \n",
    "\n",
    "But the \"new you\" knows how to use string methods in Jupyter and can make short work of this task with a little bit of Python code!\n",
    "\n",
    "**Combine string methods on `emails` to print the emails to the screen so they look as above.**"
   ]
  },
  {
   "cell_type": "code",
   "execution_count": 7,
   "metadata": {},
   "outputs": [
    {
     "data": {
      "text/plain": [
       "'T.SCHWARTZ@Rghg.CA; KHARMON@apadev.CA;    PALANVIR@dbrarch.com;DGAGLIARDI@rontain.org;   GQURAISH@depeart.com; NORM.DESERT@3firm.com; ATENZIN@kcarden.com'"
      ]
     },
     "execution_count": 7,
     "metadata": {},
     "output_type": "execute_result"
    }
   ],
   "source": [
    "emails\n"
   ]
  },
  {
   "cell_type": "markdown",
   "metadata": {},
   "source": [
    "## Task 6\n",
    "\n",
    "Run the below cell and use `word_soup` to complete this task"
   ]
  },
  {
   "cell_type": "code",
   "execution_count": 11,
   "metadata": {},
   "outputs": [],
   "source": [
    "word_soup = \"\"\"baseball Cat PIGEON crafting order Nature wood characTer joist pigeon COMPOUND yarn Vinyl cat SILVER\n",
    "Pepper JOINT screw compound vinyl carotid SILLY flabberghasted CARDIOid nature golD figure synedoche Joist\n",
    "TERMITE carpet polyLine salt figure CAT SYNEDOCHE phrase GARBAGE pig EON VINYL final rauCOUS fashion leather\n",
    "VINYL natural single LIVING like comMERCIAL siLLY jargon FLUBBER gold joint hammer sIMPLex RACK songs AT\n",
    "HarVEST moon Silver songs at build it and BASEBALL for joist peony palpatation ANECDOTE feathering pervious lowboy\n",
    "PROTECTOR ingenious Gold flabberGHASTED simple x-ray cardioid kangAROO Pig time latin termite early day at the inner\n",
    "joist CARNIVAL sugar pepper plum pickling carpet SIMPLE VEHicle compouND icicle sickle at the foreground in\n",
    "PLays cat and doges sigmoid proof annivERSARY of carotid naturE salamander protector of leather at Harvest\n",
    "\"\"\""
   ]
  },
  {
   "cell_type": "markdown",
   "metadata": {},
   "source": [
    "a) Use string methods on `word_soup` to perform a case independent search for specific words within the variable, `word_soup`. \"Case independent\" means that your search for \"cat\" will count \"Cat\", \"CAT\", and \"cat\" all as the same word. \n",
    "\n",
    "Your search should turn up a count of 4 from searching \"cat\".\n"
   ]
  },
  {
   "cell_type": "code",
   "execution_count": null,
   "metadata": {},
   "outputs": [],
   "source": []
  },
  {
   "cell_type": "markdown",
   "metadata": {},
   "source": [
    "b) Write an expression that counts the number of times that the word \"pig\" appears in 'word_soup', on its own. \n",
    "i.e. Results for the word `\"pigeon\"` should not be included within your count. The correct answer is 2."
   ]
  },
  {
   "cell_type": "code",
   "execution_count": null,
   "metadata": {},
   "outputs": [],
   "source": []
  },
  {
   "cell_type": "markdown",
   "metadata": {},
   "source": [
    "c) Write an expression that will create a list consisting of only every twelfth word\n",
    "in `word_soup` such that each word is properly capitalized (e.g. \"baseball\" is \"Baseball\").\n",
    "If you find the word \"Vinyl\" is in the resulting list, replace with this word \"Plastic\".\n",
    "\n",
    "Assign this list to a variable and print it. It should look like this when you are done:\n",
    "\n",
    "```python\n",
    "['Baseball',\n",
    " 'Plastic',\n",
    " 'Nature',\n",
    " 'Phrase',\n",
    " 'Living',\n",
    " 'At',\n",
    " 'Peony',\n",
    " 'Cardioid',\n",
    " 'Carnival',\n",
    " 'The',\n",
    " 'Nature']\n",
    "```\n"
   ]
  },
  {
   "cell_type": "code",
   "execution_count": null,
   "metadata": {},
   "outputs": [],
   "source": []
  },
  {
   "cell_type": "markdown",
   "metadata": {},
   "source": [
    "# Submit Workbook 🚀\n",
    "\n",
    "Once you have completed your notebook, uncomment the code and run the cell below to submit it.\n",
    "\n",
    "Remember to restart your notebook and run all of your cells before you do (but don't use the \"double arrow button\" because it apparently breaks the submission function)."
   ]
  },
  {
   "cell_type": "code",
   "execution_count": null,
   "metadata": {},
   "outputs": [],
   "source": [
    "#python_course.submit_workbook(\"Workbook_02\", \"cferster@rjc.ca\", cc_me=True)"
   ]
  }
 ],
 "metadata": {
  "kernelspec": {
   "display_name": "Python 3",
   "language": "python",
   "name": "python3"
  },
  "language_info": {
   "codemirror_mode": {
    "name": "ipython",
    "version": 3
   },
   "file_extension": ".py",
   "mimetype": "text/x-python",
   "name": "python",
   "nbconvert_exporter": "python",
   "pygments_lexer": "ipython3",
   "version": "3.7.6"
  }
 },
 "nbformat": 4,
 "nbformat_minor": 4
}
